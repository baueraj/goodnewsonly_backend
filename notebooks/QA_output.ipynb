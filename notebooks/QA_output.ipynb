{
 "cells": [
  {
   "cell_type": "code",
   "execution_count": 1,
   "id": "initial_id",
   "metadata": {
    "ExecuteTime": {
     "end_time": "2023-10-10T05:55:47.630338903Z",
     "start_time": "2023-10-10T05:55:42.909618701Z"
    }
   },
   "outputs": [
    {
     "name": "stderr",
     "output_type": "stream",
     "text": [
      "/home/abauer/.cache/pypoetry/virtualenvs/goodnewsonly-8-cVQIQA-py3.9/lib/python3.9/site-packages/torch/_utils.py:355: UserWarning: TypedStorage is deprecated. It will be removed in the future and UntypedStorage will be the only storage class. This should only matter to you if you are using storages directly.  To access UntypedStorage directly, use tensor.untyped_storage() instead of tensor.storage()\n",
      "  device=storage.device,\n"
     ]
    }
   ],
   "source": [
    "from goodnewsonly.core import process_website"
   ]
  },
  {
   "cell_type": "markdown",
   "id": "16f889beb879d18",
   "metadata": {
    "ExecuteTime": {
     "end_time": "2023-10-10T05:55:48.551823543Z",
     "start_time": "2023-10-10T05:55:47.630834742Z"
    },
    "collapsed": false,
    "jupyter": {
     "outputs_hidden": false
    }
   },
   "source": []
  },
  {
   "cell_type": "code",
   "execution_count": 2,
   "id": "3e08a5570723cde",
   "metadata": {
    "ExecuteTime": {
     "end_time": "2023-10-10T05:55:48.561341384Z",
     "start_time": "2023-10-10T05:55:48.555754252Z"
    },
    "collapsed": false,
    "jupyter": {
     "outputs_hidden": false
    }
   },
   "outputs": [
    {
     "name": "stdout",
     "output_type": "stream",
     "text": [
      "['Israel says Gaza border finally secured as air strikes continue', \"Biden's foreign policy upended by Hamas attack\", 'How festival massacre unfolded - from verified video and social media', 'Bowen: Israelis, united in shock, rally behind war', 'Why did Israel take so long to tackle the Hamas invasion?', \"'My wife and children have been kidnapped by Hamas'\", 'Biden interviewed over handling of classified files', 'Shockwaves from Israel-Hamas war disrupt US politics', \"'Isis level savagery' killed 11 Americans, says US\", 'Did Iran support plan for attack on Israel?', 'Man who crashed car into China embassy shot dead in US', 'California governor vetoes caste discrimination bill', 'Over 1,000 dead as Afghans dig for quake survivors', \"UK special forces 'killed 9 people sleeping in beds'\", 'Coin hoard could be linked to Scottish massacre', \"Child 'snatched away' by deadly Cameroon landslides\", 'The people who want RFK Jr to be president', \"Child 'snatched away' by deadly Cameroon landslides\", 'The people who want RFK Jr to be president', 'Who will succeed Kevin McCarthy as House Speaker?', 'Cricket recommended for 2028 LA Olympics spot', 'Delightful or dated? Frasier returns to screens', \"'I wish I could be a normal child living with no war'\", 'BBC World News TV', 'BBC World Service Radio', 'My landlord wanted to put the rent up 35% despite cap', \"Greta Gerwig calls Barbie's success 'so moving'\", \"The scandalous life of a 'dashing and unreliable' king\", 'UK towns cancel Christmas lights due to finances', 'The hunt for a new way to tackle clothing waste', 'What is happening in Israel, and why now?', \"The 'white gold' rush dividing Nevada communities\", \"How India's first deaf lawyer made history in top court\", \"Biden cannot escape Trump's shadow in border crisis\", 'Nobel prize for work on why women earn less', \"The flawed response that made Libya's flooding so deadly\", 'Listen: The Israel-Gaza conflict erupts into war', 'The drones that flew into A-bomb blasts', 'The alarming side effect of inflation', 'A rainforest hotel in the clouds', \"Dr Who's most stylish Doctors\", 'The ocean grave for 264 spacecraft', 'The sneaky trend hurting finances', 'A sacred pole stolen by the British', 'World Cup: England v Bangladesh', 'Football latest: UK and Ireland set to be named Euro 2028 hosts', 'Gauff & Swiatek to miss Billie Jean King Cup finals', 'FIA to look at F1 calendar changes after Qatar GP', 'Smith improving speed with help from Olympic great', 'New Zealand comfortably beat Netherlands at World Cup', 'Saka ruled out for England through injury']\n"
     ]
    },
    {
     "data": {
      "text/plain": [
       "['Israel says Gaza border finally secured as air strikes continue',\n",
       " \"Biden's foreign policy upended by Hamas attack\",\n",
       " 'How festival massacre unfolded - from verified video and social media',\n",
       " 'Bowen: Israelis, united in shock, rally behind war',\n",
       " 'Why did Israel take so long to tackle the Hamas invasion?',\n",
       " \"'My wife and children have been kidnapped by Hamas'\",\n",
       " 'Biden interviewed over handling of classified files',\n",
       " \"'Isis level savagery' killed 11 Americans, says US\",\n",
       " 'Did Iran support plan for attack on Israel?',\n",
       " 'Man who crashed car into China embassy shot dead in US',\n",
       " 'California governor vetoes caste discrimination bill',\n",
       " 'Over 1,000 dead as Afghans dig for quake survivors',\n",
       " \"UK special forces 'killed 9 people sleeping in beds'\",\n",
       " 'Coin hoard could be linked to Scottish massacre',\n",
       " \"Child 'snatched away' by deadly Cameroon landslides\",\n",
       " \"Child 'snatched away' by deadly Cameroon landslides\",\n",
       " 'Who will succeed Kevin McCarthy as House Speaker?',\n",
       " \"'I wish I could be a normal child living with no war'\",\n",
       " 'My landlord wanted to put the rent up 35% despite cap',\n",
       " \"The scandalous life of a 'dashing and unreliable' king\",\n",
       " 'UK towns cancel Christmas lights due to finances',\n",
       " 'The hunt for a new way to tackle clothing waste',\n",
       " 'What is happening in Israel, and why now?',\n",
       " \"Biden cannot escape Trump's shadow in border crisis\",\n",
       " \"The flawed response that made Libya's flooding so deadly\",\n",
       " 'Listen: The Israel-Gaza conflict erupts into war',\n",
       " 'The drones that flew into A-bomb blasts',\n",
       " 'The alarming side effect of inflation',\n",
       " 'The ocean grave for 264 spacecraft',\n",
       " 'The sneaky trend hurting finances',\n",
       " 'A sacred pole stolen by the British']"
      ]
     },
     "execution_count": 2,
     "metadata": {},
     "output_type": "execute_result"
    }
   ],
   "source": [
    "process_website(\"https://www.bbc.com/news\")"
   ]
  },
  {
   "cell_type": "code",
   "execution_count": 3,
   "id": "01c6dbf2-ed3d-4900-95ae-429f19677424",
   "metadata": {},
   "outputs": [],
   "source": [
    "from goodnewsonly.sentiment_analysis import SentimentAnalyzer\n",
    "\n",
    "analyzer = SentimentAnalyzer()"
   ]
  },
  {
   "cell_type": "code",
   "execution_count": 4,
   "id": "cdf46e3b-18c9-4d48-bf2a-cf7377c9b0f6",
   "metadata": {},
   "outputs": [
    {
     "name": "stdout",
     "output_type": "stream",
     "text": [
      "negative\n"
     ]
    }
   ],
   "source": [
    "headline_ = \"260 bodies recovered from 'horror movie' festival scene\"\n",
    "sentiment = analyzer.analyze_sentiments([headline_])[0]\n",
    "print(sentiment)"
   ]
  },
  {
   "cell_type": "code",
   "execution_count": 5,
   "id": "a1122aaa-993c-4b8a-a54d-b24f87591eda",
   "metadata": {},
   "outputs": [
    {
     "name": "stdout",
     "output_type": "stream",
     "text": [
      "negative\n"
     ]
    }
   ],
   "source": [
    "headline_ = \"Man who crashed car into China embassy shot in US\"\n",
    "sentiment = analyzer.analyze_sentiments([headline_])[0]\n",
    "print(sentiment)"
   ]
  },
  {
   "cell_type": "code",
   "execution_count": 6,
   "id": "c967759a-0dc3-49d3-aa00-973e0280b3dc",
   "metadata": {},
   "outputs": [
    {
     "name": "stdout",
     "output_type": "stream",
     "text": [
      "negative\n"
     ]
    }
   ],
   "source": [
    "headline_ = \"Keith Richards: Arthritis changed my guitar-playing\"\n",
    "sentiment = analyzer.analyze_sentiments([headline_])[0]\n",
    "print(sentiment)"
   ]
  }
 ],
 "metadata": {
  "kernelspec": {
   "display_name": "Python 3 (ipykernel)",
   "language": "python",
   "name": "python3"
  },
  "language_info": {
   "codemirror_mode": {
    "name": "ipython",
    "version": 3
   },
   "file_extension": ".py",
   "mimetype": "text/x-python",
   "name": "python",
   "nbconvert_exporter": "python",
   "pygments_lexer": "ipython3",
   "version": "3.9.9"
  }
 },
 "nbformat": 4,
 "nbformat_minor": 5
}
