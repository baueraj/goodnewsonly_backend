{
 "cells": [
  {
   "cell_type": "code",
   "execution_count": 1,
   "id": "initial_id",
   "metadata": {
    "collapsed": true,
    "ExecuteTime": {
     "end_time": "2023-10-06T23:49:31.231527711Z",
     "start_time": "2023-10-06T23:49:30.336998427Z"
    }
   },
   "outputs": [],
   "source": [
    "from goodnewsonly.core import process_website"
   ]
  },
  {
   "cell_type": "code",
   "execution_count": 6,
   "outputs": [
    {
     "data": {
      "text/plain": "['New York subway gunman sentenced to life in prison',\n 'New York subway gunman sentenced to life in prison',\n 'Russian airstrike kills 51 at a funeral in Ukraine',\n 'Trump seeks to dismiss 2020 election charges',\n 'Suspect arrested in murder of New York activist',\n \"Man who took crossbow to 'kill Queen' jailed\",\n \"Man who took crossbow to 'kill Queen' jailed\",\n 'Syria army academy drone attack kills at least 80',\n 'How an oil-soaked bird shocked the world',\n 'How modern readers get this epic wrong',\n 'The real life consequences of a Congress in crisis',\n 'The sneaky trend hurting finances',\n 'NZ crush Uruguay 73-0 to reach quarter-finals',\n 'Late Pedro penalty earns Brighton draw at Marseille',\n 'Lacklustre Rangers beaten by Aris in Europa League']"
     },
     "execution_count": 6,
     "metadata": {},
     "output_type": "execute_result"
    }
   ],
   "source": [
    "process_website(\"https://www.bbc.com/news\")"
   ],
   "metadata": {
    "collapsed": false,
    "ExecuteTime": {
     "end_time": "2023-10-05T21:46:56.885837397Z",
     "start_time": "2023-10-05T21:46:56.378426247Z"
    }
   },
   "id": "3e08a5570723cde"
  }
 ],
 "metadata": {
  "kernelspec": {
   "display_name": "Python 3",
   "language": "python",
   "name": "python3"
  },
  "language_info": {
   "codemirror_mode": {
    "name": "ipython",
    "version": 2
   },
   "file_extension": ".py",
   "mimetype": "text/x-python",
   "name": "python",
   "nbconvert_exporter": "python",
   "pygments_lexer": "ipython2",
   "version": "2.7.6"
  }
 },
 "nbformat": 4,
 "nbformat_minor": 5
}
