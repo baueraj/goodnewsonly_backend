{
 "cells": [
  {
   "cell_type": "code",
   "execution_count": 1,
   "id": "1c06bada6f3e809c",
   "metadata": {
    "collapsed": true,
    "ExecuteTime": {
     "end_time": "2023-11-06T04:58:33.783756179Z",
     "start_time": "2023-11-06T04:58:33.724616672Z"
    }
   },
   "outputs": [],
   "source": [
    "import requests"
   ]
  },
  {
   "cell_type": "code",
   "execution_count": 4,
   "outputs": [
    {
     "name": "stdout",
     "output_type": "stream",
     "text": [
      "The HTML source has been saved to ../data/html_from_url.html\n"
     ]
    }
   ],
   "source": [
    "url = \"https://www.cnn.com/\"\n",
    "fpath = \"../data/html_from_url.html\"\n",
    "\n",
    "response = requests.get(url)\n",
    "\n",
    "# Check if the request was successful\n",
    "if response.status_code == 200:\n",
    "    html_content = response.text\n",
    "    # Write the HTML content to a file\n",
    "    with open(fpath, \"w\", encoding=\"utf-8\") as file:\n",
    "        file.write(html_content)\n",
    "    print(f\"The HTML source has been saved to {fpath}\")\n",
    "else:\n",
    "    print(f\"Failed to retrieve the content, status code: {response.status_code}\")"
   ],
   "metadata": {
    "collapsed": false,
    "ExecuteTime": {
     "end_time": "2023-11-06T04:58:56.505740758Z",
     "start_time": "2023-11-06T04:58:55.999764870Z"
    }
   },
   "id": "initial_id"
  }
 ],
 "metadata": {
  "kernelspec": {
   "display_name": "Python 3",
   "language": "python",
   "name": "python3"
  },
  "language_info": {
   "codemirror_mode": {
    "name": "ipython",
    "version": 2
   },
   "file_extension": ".py",
   "mimetype": "text/x-python",
   "name": "python",
   "nbconvert_exporter": "python",
   "pygments_lexer": "ipython2",
   "version": "2.7.6"
  }
 },
 "nbformat": 4,
 "nbformat_minor": 5
}
