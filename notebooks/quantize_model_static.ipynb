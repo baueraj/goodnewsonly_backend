{
 "cells": [
  {
   "cell_type": "code",
   "execution_count": 1,
   "outputs": [],
   "source": [
    "import torch\n",
    "from torch.quantization import quantize_static, get_default_qconfig, prepare, convert\n",
    "from transformers import DistilBertTokenizer, DistilBertForSequenceClassification"
   ],
   "metadata": {
    "collapsed": false,
    "ExecuteTime": {
     "end_time": "2023-10-09T20:07:35.717385339Z",
     "start_time": "2023-10-09T20:07:32.346815235Z"
    }
   },
   "id": "d0d4315a1f0f1a7c"
  },
  {
   "cell_type": "code",
   "execution_count": 4,
   "outputs": [
    {
     "data": {
      "text/plain": "Downloading (…)okenizer_config.json:   0%|          | 0.00/48.0 [00:00<?, ?B/s]",
      "application/vnd.jupyter.widget-view+json": {
       "version_major": 2,
       "version_minor": 0,
       "model_id": "ba4c0653ca2946ca98aa6b84deadf8fe"
      }
     },
     "metadata": {},
     "output_type": "display_data"
    },
    {
     "data": {
      "text/plain": "Downloading (…)solve/main/vocab.txt:   0%|          | 0.00/232k [00:00<?, ?B/s]",
      "application/vnd.jupyter.widget-view+json": {
       "version_major": 2,
       "version_minor": 0,
       "model_id": "a92e1b73c2154eb68112ae43e886e97c"
      }
     },
     "metadata": {},
     "output_type": "display_data"
    },
    {
     "data": {
      "text/plain": "Downloading (…)lve/main/config.json:   0%|          | 0.00/629 [00:00<?, ?B/s]",
      "application/vnd.jupyter.widget-view+json": {
       "version_major": 2,
       "version_minor": 0,
       "model_id": "dec85b719d1d44fd838a809bbfbb072d"
      }
     },
     "metadata": {},
     "output_type": "display_data"
    },
    {
     "data": {
      "text/plain": "Downloading model.safetensors:   0%|          | 0.00/268M [00:00<?, ?B/s]",
      "application/vnd.jupyter.widget-view+json": {
       "version_major": 2,
       "version_minor": 0,
       "model_id": "b15c6916c2f5472c8936c774edede3fd"
      }
     },
     "metadata": {},
     "output_type": "display_data"
    }
   ],
   "source": [
    "# Load the pre-trained DistilBERT model\n",
    "tokenizer = DistilBertTokenizer.from_pretrained(\"distilbert-base-uncased-finetuned-sst-2-english\")\n",
    "model = DistilBertForSequenceClassification.from_pretrained(\"distilbert-base-uncased-finetuned-sst-2-english\")\n",
    "model.eval()"
   ],
   "metadata": {
    "collapsed": false,
    "ExecuteTime": {
     "end_time": "2023-10-09T20:12:09.705936108Z",
     "start_time": "2023-10-09T20:11:45.981531525Z"
    }
   },
   "id": "1eab706d34624445"
  },
  {
   "cell_type": "code",
   "outputs": [],
   "source": [
    "# Set the quantization configuration for x86 CPUs\n",
    "model.qconfig = get_default_qconfig(\"fbgemm\")\n",
    "\n",
    "# Prepare the model for static quantization\n",
    "prepare(model, inplace=True)"
   ],
   "metadata": {
    "collapsed": false
   },
   "id": "5a18db4b61ac6352"
  },
  {
   "cell_type": "code",
   "execution_count": 5,
   "outputs": [],
   "source": [
    "# Calibrate the model with positive and negative sentiment news headlines (the target application domain of the model)\n"
   ],
   "metadata": {
    "collapsed": false,
    "ExecuteTime": {
     "end_time": "2023-10-09T20:12:22.207032226Z",
     "start_time": "2023-10-09T20:12:21.822048940Z"
    }
   },
   "id": "ed65f80fb4971cd6"
  },
  {
   "cell_type": "code",
   "outputs": [],
   "source": [
    "# Convert the model to a quantized version\n",
    "quantized_model = convert(model, inplace=True)"
   ],
   "metadata": {
    "collapsed": false
   },
   "id": "80968621b57830f9"
  },
  {
   "cell_type": "code",
   "execution_count": 6,
   "outputs": [],
   "source": [
    "# Test the original and quantized models\n",
    "inputs = tokenizer(\"Hello, my dog is cute\", return_tensors=\"pt\")\n",
    "with torch.no_grad():\n",
    "    logits = model(**inputs).logits\n",
    "    quant_logits = quantized_model(**inputs).logits\n",
    "\n",
    "predicted_class_id = logits.argmax().item()\n",
    "quant_predicted_class_id = quant_logits.argmax().item()"
   ],
   "metadata": {
    "collapsed": false,
    "ExecuteTime": {
     "end_time": "2023-10-09T20:12:39.370696430Z",
     "start_time": "2023-10-09T20:12:38.720396190Z"
    }
   },
   "id": "5013d21a8b7f8d5"
  },
  {
   "cell_type": "code",
   "execution_count": 7,
   "outputs": [
    {
     "name": "stdout",
     "output_type": "stream",
     "text": [
      "Original model prediction: POSITIVE\n",
      "Quantized model prediction: POSITIVE\n"
     ]
    }
   ],
   "source": [
    "# Display results\n",
    "print(\"Original model prediction:\", model.config.id2label[predicted_class_id])\n",
    "print(\"Quantized model prediction:\", model.config.id2label[quant_predicted_class_id])"
   ],
   "metadata": {
    "collapsed": false,
    "ExecuteTime": {
     "end_time": "2023-10-09T20:13:04.307916395Z",
     "start_time": "2023-10-09T20:13:04.263577928Z"
    }
   },
   "id": "64ab5f09b2e089b2"
  },
  {
   "cell_type": "code",
   "execution_count": 8,
   "outputs": [],
   "source": [
    "# Save the quantized model state_dict\n",
    "torch.save(quantized_model.state_dict(), \"../goodnewsonly/resources/static_quantized_model_state_dict.pth\")"
   ],
   "metadata": {
    "collapsed": false,
    "ExecuteTime": {
     "end_time": "2023-10-09T20:23:32.903450461Z",
     "start_time": "2023-10-09T20:23:32.626714520Z"
    }
   },
   "id": "fb2f522f6ddcc837"
  },
  {
   "cell_type": "markdown",
   "source": [],
   "metadata": {
    "collapsed": false
   },
   "id": "31baf007dfd00f4d"
  }
 ],
 "metadata": {
  "kernelspec": {
   "display_name": "Python 3",
   "language": "python",
   "name": "python3"
  },
  "language_info": {
   "codemirror_mode": {
    "name": "ipython",
    "version": 2
   },
   "file_extension": ".py",
   "mimetype": "text/x-python",
   "name": "python",
   "nbconvert_exporter": "python",
   "pygments_lexer": "ipython2",
   "version": "2.7.6"
  }
 },
 "nbformat": 4,
 "nbformat_minor": 5
}
